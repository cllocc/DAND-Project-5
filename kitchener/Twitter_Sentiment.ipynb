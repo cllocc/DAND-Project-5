{
 "cells": [
  {
   "cell_type": "code",
   "execution_count": 8,
   "metadata": {},
   "outputs": [
    {
     "data": {
      "text/plain": [
       "0    {\"coordinates\": [43.45465, -80.51827], \"type\":...\n",
       "1    {\"coordinates\": [43.4642578, -80.5204096], \"ty...\n",
       "2    {\"coordinates\": [43.4642578, -80.5204096], \"ty...\n",
       "3    {\"coordinates\": [43.4642578, -80.5204096], \"ty...\n",
       "4    {\"coordinates\": [43.450301, -80.4831917], \"typ...\n",
       "Name: geo, dtype: object"
      ]
     },
     "execution_count": 8,
     "metadata": {},
     "output_type": "execute_result"
    }
   ],
   "source": [
    "import tweepy \n",
    "import numpy as np \n",
    "import csv\n",
    "import pandas as pd\n",
    "import sqlite3\n",
    "import matplotlib.pyplot as plt\n",
    "conn = sqlite3.connect('tweets.db')\n",
    "c = conn.cursor()\n",
    "\n",
    "data = pd.read_sql('select * from crypto where geo not null ',conn)\n",
    "#data.to_csv(\"word_cloud_tweets.csv\")\n",
    "data.geo.head()"
   ]
  },
  {
   "cell_type": "code",
   "execution_count": 7,
   "metadata": {},
   "outputs": [
    {
     "data": {
      "text/plain": [
       "id                    int64\n",
       "retweet_count         int64\n",
       "user_location        object\n",
       "id_str               object\n",
       "user_name            object\n",
       "user_created         object\n",
       "geo                  object\n",
       "subjectivity        float64\n",
       "coordinates          object\n",
       "user_followers        int64\n",
       "user_bg_color        object\n",
       "text                 object\n",
       "created              object\n",
       "polarity            float64\n",
       "user_description     object\n",
       "dtype: object"
      ]
     },
     "execution_count": 7,
     "metadata": {},
     "output_type": "execute_result"
    }
   ],
   "source": [
    "data.dtypes"
   ]
  },
  {
   "cell_type": "code",
   "execution_count": null,
   "metadata": {},
   "outputs": [],
   "source": []
  },
  {
   "cell_type": "code",
   "execution_count": 20,
   "metadata": {},
   "outputs": [],
   "source": [
    "from textblob import TextBlob\n",
    "import re\n",
    "\n",
    "def clean_tweet(tweet):\n",
    "    '''\n",
    "    Utility function to clean the text in a tweet by removing \n",
    "    links and special characters using regex.\n",
    "    '''\n",
    "    return ' '.join(re.sub(\"(@[A-Za-z0-9]+)|([^0-9A-Za-z \\t])|(\\w+:\\/\\/\\S+)\", \" \", tweet).split())\n",
    "\n",
    "def analize_sentiment(tweet):\n",
    "    '''\n",
    "    Utility function to classify the polarity of a tweet\n",
    "    using textblob.\n",
    "    '''\n",
    "    analysis = TextBlob(clean_tweet(tweet))\n",
    "    if analysis.sentiment.polarity > 0:\n",
    "        return 1\n",
    "    elif analysis.sentiment.polarity == 0:\n",
    "        return 0\n",
    "    else:\n",
    "        return -1"
   ]
  },
  {
   "cell_type": "code",
   "execution_count": 32,
   "metadata": {},
   "outputs": [
    {
     "data": {
      "text/html": [
       "<div>\n",
       "<table border=\"1\" class=\"dataframe\">\n",
       "  <thead>\n",
       "    <tr style=\"text-align: right;\">\n",
       "      <th></th>\n",
       "      <th>id</th>\n",
       "      <th>retweet_count</th>\n",
       "      <th>user_location</th>\n",
       "      <th>id_str</th>\n",
       "      <th>user_name</th>\n",
       "      <th>user_created</th>\n",
       "      <th>geo</th>\n",
       "      <th>subjectivity</th>\n",
       "      <th>coordinates</th>\n",
       "      <th>user_followers</th>\n",
       "      <th>user_bg_color</th>\n",
       "      <th>text</th>\n",
       "      <th>created</th>\n",
       "      <th>polarity</th>\n",
       "      <th>user_description</th>\n",
       "      <th>SA</th>\n",
       "    </tr>\n",
       "  </thead>\n",
       "  <tbody>\n",
       "    <tr>\n",
       "      <th>0</th>\n",
       "      <td>12</td>\n",
       "      <td>0</td>\n",
       "      <td>Kitchener, Ontario</td>\n",
       "      <td>962536738362081280</td>\n",
       "      <td>_xoanniee</td>\n",
       "      <td>2017-10-18 22:37:38.000000</td>\n",
       "      <td>None</td>\n",
       "      <td>0.100</td>\n",
       "      <td>None</td>\n",
       "      <td>55</td>\n",
       "      <td>F5F8FA</td>\n",
       "      <td>Rip aunt Faye I barely knew you but you were s...</td>\n",
       "      <td>2018-02-11 04:00:16.000000</td>\n",
       "      <td>0.050000</td>\n",
       "      <td>Virgo•20•</td>\n",
       "      <td>1</td>\n",
       "    </tr>\n",
       "    <tr>\n",
       "      <th>1</th>\n",
       "      <td>14</td>\n",
       "      <td>0</td>\n",
       "      <td>Kitchener, Ontario</td>\n",
       "      <td>962537162091634688</td>\n",
       "      <td>MugatuMofos</td>\n",
       "      <td>2012-07-19 03:18:19.000000</td>\n",
       "      <td>None</td>\n",
       "      <td>0.000</td>\n",
       "      <td>None</td>\n",
       "      <td>224</td>\n",
       "      <td>000408</td>\n",
       "      <td>Why don't you just order a nuke strike against...</td>\n",
       "      <td>2018-02-11 04:01:57.000000</td>\n",
       "      <td>0.000000</td>\n",
       "      <td>I became insane, with long intervals of horrib...</td>\n",
       "      <td>0</td>\n",
       "    </tr>\n",
       "    <tr>\n",
       "      <th>2</th>\n",
       "      <td>29</td>\n",
       "      <td>0</td>\n",
       "      <td>Kitchener, Ontario</td>\n",
       "      <td>962539868545937408</td>\n",
       "      <td>MugatuMofos</td>\n",
       "      <td>2012-07-19 03:18:19.000000</td>\n",
       "      <td>None</td>\n",
       "      <td>0.000</td>\n",
       "      <td>None</td>\n",
       "      <td>224</td>\n",
       "      <td>000408</td>\n",
       "      <td>@MrAlexisPereira Thank you for your service! (...</td>\n",
       "      <td>2018-02-11 04:12:42.000000</td>\n",
       "      <td>0.000000</td>\n",
       "      <td>I became insane, with long intervals of horrib...</td>\n",
       "      <td>0</td>\n",
       "    </tr>\n",
       "    <tr>\n",
       "      <th>3</th>\n",
       "      <td>37</td>\n",
       "      <td>0</td>\n",
       "      <td>Kitchener, Ontario</td>\n",
       "      <td>962540929268805638</td>\n",
       "      <td>MugatuMofos</td>\n",
       "      <td>2012-07-19 03:18:19.000000</td>\n",
       "      <td>None</td>\n",
       "      <td>0.375</td>\n",
       "      <td>None</td>\n",
       "      <td>224</td>\n",
       "      <td>000408</td>\n",
       "      <td>@MrAlexisPereira I just realized there is no S...</td>\n",
       "      <td>2018-02-11 04:16:55.000000</td>\n",
       "      <td>-0.305176</td>\n",
       "      <td>I became insane, with long intervals of horrib...</td>\n",
       "      <td>-1</td>\n",
       "    </tr>\n",
       "    <tr>\n",
       "      <th>4</th>\n",
       "      <td>46</td>\n",
       "      <td>0</td>\n",
       "      <td>Kitchener, Ontario</td>\n",
       "      <td>962542362798034944</td>\n",
       "      <td>AccidentalCDN</td>\n",
       "      <td>2013-02-26 09:59:51.000000</td>\n",
       "      <td>None</td>\n",
       "      <td>1.000</td>\n",
       "      <td>None</td>\n",
       "      <td>388</td>\n",
       "      <td>DBE9ED</td>\n",
       "      <td>@AnnMantini @KMacTWN Sorry...I had to. Smelt i...</td>\n",
       "      <td>2018-02-11 04:22:37.000000</td>\n",
       "      <td>-0.500000</td>\n",
       "      <td>Writer - \"Accidental Canadian\" coming out in S...</td>\n",
       "      <td>-1</td>\n",
       "    </tr>\n",
       "  </tbody>\n",
       "</table>\n",
       "</div>"
      ],
      "text/plain": [
       "   id  retweet_count       user_location              id_str      user_name  \\\n",
       "0  12              0  Kitchener, Ontario  962536738362081280      _xoanniee   \n",
       "1  14              0  Kitchener, Ontario  962537162091634688    MugatuMofos   \n",
       "2  29              0  Kitchener, Ontario  962539868545937408    MugatuMofos   \n",
       "3  37              0  Kitchener, Ontario  962540929268805638    MugatuMofos   \n",
       "4  46              0  Kitchener, Ontario  962542362798034944  AccidentalCDN   \n",
       "\n",
       "                 user_created   geo  subjectivity coordinates  user_followers  \\\n",
       "0  2017-10-18 22:37:38.000000  None         0.100        None              55   \n",
       "1  2012-07-19 03:18:19.000000  None         0.000        None             224   \n",
       "2  2012-07-19 03:18:19.000000  None         0.000        None             224   \n",
       "3  2012-07-19 03:18:19.000000  None         0.375        None             224   \n",
       "4  2013-02-26 09:59:51.000000  None         1.000        None             388   \n",
       "\n",
       "  user_bg_color                                               text  \\\n",
       "0        F5F8FA  Rip aunt Faye I barely knew you but you were s...   \n",
       "1        000408  Why don't you just order a nuke strike against...   \n",
       "2        000408  @MrAlexisPereira Thank you for your service! (...   \n",
       "3        000408  @MrAlexisPereira I just realized there is no S...   \n",
       "4        DBE9ED  @AnnMantini @KMacTWN Sorry...I had to. Smelt i...   \n",
       "\n",
       "                      created  polarity  \\\n",
       "0  2018-02-11 04:00:16.000000  0.050000   \n",
       "1  2018-02-11 04:01:57.000000  0.000000   \n",
       "2  2018-02-11 04:12:42.000000  0.000000   \n",
       "3  2018-02-11 04:16:55.000000 -0.305176   \n",
       "4  2018-02-11 04:22:37.000000 -0.500000   \n",
       "\n",
       "                                    user_description  SA  \n",
       "0                                          Virgo•20•   1  \n",
       "1  I became insane, with long intervals of horrib...   0  \n",
       "2  I became insane, with long intervals of horrib...   0  \n",
       "3  I became insane, with long intervals of horrib...  -1  \n",
       "4  Writer - \"Accidental Canadian\" coming out in S...  -1  "
      ]
     },
     "execution_count": 32,
     "metadata": {},
     "output_type": "execute_result"
    }
   ],
   "source": [
    "# We create a column with the result of the analysis:\n",
    "data['SA'] = np.array([ analize_sentiment(tweet) for tweet in data['text'] ])\n",
    "\n",
    "# We display the updated dataframe with the new column:\n",
    "data.head()\n",
    "#data.to_csv(\"rocket_ship.csv\")"
   ]
  },
  {
   "cell_type": "code",
   "execution_count": 33,
   "metadata": {},
   "outputs": [],
   "source": [
    "# We construct lists with classified tweets:\n",
    "\n",
    "pos_tweets = [ tweet for index, tweet in enumerate(data['text']) if data['SA'][index] > 0]\n",
    "neu_tweets = [ tweet for index, tweet in enumerate(data['text']) if data['SA'][index] == 0]\n",
    "neg_tweets = [ tweet for index, tweet in enumerate(data['text']) if data['SA'][index] < 0]"
   ]
  },
  {
   "cell_type": "code",
   "execution_count": 34,
   "metadata": {},
   "outputs": [
    {
     "name": "stdout",
     "output_type": "stream",
     "text": [
      "Percentage of positive tweets: 28.089887640449437%\n",
      "Percentage of neutral tweets: 57.30337078651685%\n",
      "Percentage de negative tweets: 14.606741573033707%\n"
     ]
    }
   ],
   "source": [
    "print(\"Percentage of positive tweets: {}%\".format(len(pos_tweets)*100/len(data['text'])))\n",
    "print(\"Percentage of neutral tweets: {}%\".format(len(neu_tweets)*100/len(data['text'])))\n",
    "print(\"Percentage de negative tweets: {}%\".format(len(neg_tweets)*100/len(data['text'])))"
   ]
  },
  {
   "cell_type": "code",
   "execution_count": 35,
   "metadata": {},
   "outputs": [],
   "source": [
    "sen_pos = format(len(pos_tweets)*100/len(data['text']))\n",
    "sen_neu = format(len(neu_tweets)*100/len(data['text']))\n",
    "sen_neg = format(len(neg_tweets)*100/len(data['text']))"
   ]
  },
  {
   "cell_type": "code",
   "execution_count": 36,
   "metadata": {},
   "outputs": [
    {
     "data": {
      "image/png": "[encoded data removed]",
      "text/plain": [
       "<matplotlib.figure.Figure at 0x1597cdf25f8>"
      ]
     },
     "metadata": {},
     "output_type": "display_data"
    }
   ],
   "source": [
    "fig = plt.figure()\n",
    "fig.suptitle('Twitter Sentiment for Keyword Bitcoin', fontsize=14, fontweight='bold')\n",
    "\n",
    "labels = \"positive\",\"neutral\",\"Negitive\"\n",
    "sizes = [sen_pos,sen_neu,sen_neg]\n",
    "colors = ['green', 'gold', 'red']\n",
    "explode = (0.1,0.1,0)  # \"explode\" Slices for looks\n",
    "\n",
    "plt.pie(sizes, explode=explode, labels=labels, colors=colors,\n",
    "        autopct='%1.1f%%', shadow=True, startangle=90)\n",
    "# Set aspect ratio to be equal so that pie is drawn as a circle.\n",
    "plt.axis('equal')\n",
    "\n",
    "plt.show()"
   ]
  }
 ],
 "metadata": {
  "anaconda-cloud": {},
  "kernelspec": {
   "display_name": "Python 3",
   "language": "python",
   "name": "python3"
  },
  "language_info": {
   "codemirror_mode": {
    "name": "ipython",
    "version": 3
   },
   "file_extension": ".py",
   "mimetype": "text/x-python",
   "name": "python",
   "nbconvert_exporter": "python",
   "pygments_lexer": "ipython3",
   "version": "3.7.4"
  }
 },
 "nbformat": 4,
 "nbformat_minor": 1
}
